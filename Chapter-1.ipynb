{
 "cells": [
  {
   "cell_type": "markdown",
   "metadata": {},
   "source": [
    "# <mark style=\"background-color: lightblue\">The Machine Learning Landscape</mark>\n",
    "\n",
    "Machine Learning has been around for decades in some specialized applications such as ***Optical Character Recognition (OCR).*** But the first ML application that really became mainstream, was the *spam filter.* "
   ]
  },
  {
   "cell_type": "markdown",
   "metadata": {},
   "source": [
    "## <mark style=\"background-color: lightblue\">What is Machine Learning</mark>\n",
    "\n",
    "Machine Learning is the science (and art) of programming computers so they can learn from data. A more engineering-oriented definition is: \n",
    "\n",
    "> A computer program is said to learn from experience E with respect to some task T and some performance measure P, if its performance on T, as measured by P, improves with experience E. -Tom Mitchell, 1997\n",
    "\n",
    "## <mark style=\"background-color: lightblue\">Why Use Machine Learning</mark>\n",
    "\n",
    "Machine Learning is great for:\n",
    "- Problems for which existing solutions require a lot of hand-tuning or long lists of rules: one Machine Learning algorithm can often simplify code and perform better.\n",
    "- Complex problems for which there is no good solution at all using a traditional approach: the best ML techniques can find a solution.\n",
    "- Fluctuating envrionments: a ML system can adapt to new data.\n",
    "- Getting insights about complex problems and large amounts of data."
   ]
  },
  {
   "cell_type": "markdown",
   "metadata": {},
   "source": [
    "## <mark style=\"background-color: lightblue\">Types of Machine Learning Systems</mark>\n",
    "\n",
    "There are so many different types of ML systems that is useful to classify them in broad categories based on:\n",
    "- Whether or not they are trained with human supervision **(supervised, unsupervised, semisupervised, and Reinforcement Learning)**\n",
    "- Whether or not they can learn incrementally on the fly **(online versus batch learning)**\n",
    "- Whether they work by simply comparing new data points to known data points or instead detect patterns in the training data and build a predictive model, much like scientists do **(instance-based versus model-based learning)**"
   ]
  },
  {
   "cell_type": "markdown",
   "metadata": {},
   "source": [
    "### <mark style=\"background-color: darksalmon\">**Supervised/Unsupervised Learning**\n",
    "\n",
    "ML systems can be classified according to the amount and type of supervision they get during training.\n",
    "\n",
    "#### **Supervised learning**\n",
    "\n",
    "The training data you feed to the algorithm includes the desired solutions, called ***labels***. A typical supervised learning task is ***classification.***\n",
    "\n",
    "*e.g.* the spam filter is trained with many example emails along with their class (spam or ham).\n",
    "\n",
    "Another typical task is to predict a target numeric value called ***predictors.*** This sort of task is called *regressions.* Note that some regression algorithms can be used for classification as well, and vice versa. For example, ***Logistic Regression*** is commonly used for classification, as it can output a value that corresponds to the probability of belonging to a given class.\n",
    "\n",
    "Some of the most importance supervised learning algorithms are:\n",
    "- k-Nearest Neighbors\n",
    "- Linear Regression\n",
    "- Logistic Regression\n",
    "- Support Vector Machines (SVMs)\n",
    "- Decision Trees and Random Forests\n",
    "- Neural Networks (some)\n",
    "\n",
    "### **Unsupervised learning**\n",
    "\n",
    "The training data is ***unlabeled.*** The system tries to learn without a teacher. Some of the most important unsupervised learning algorithms include:\n",
    "- Clustering\n",
    "  - K-Means\n",
    "  - DBSCAN\n",
    "  - Hierarchical Cluster Analysis (HCA)\n",
    "- Anomaly detection and novelty detection\n",
    "  - One-class SVM\n",
    "  - Isolation Forest\n",
    "- Visualization and dimensionality reduction\n",
    "  - Principal Component Analysis (PCA)\n",
    "  - Kernel PCA\n",
    "  - Locally-Linear Embedding (LLE)\n",
    "  - t-distributed Stochastic Neighbor Embedding (t-SNE)\n",
    "- Association rule-learning\n",
    "  - Apriori\n",
    "  - Eclat\n",
    "\n",
    "A related task is ***dimensionality reduction,*** in which the goal is to simplify the data without losing too much information. One way is to merge several correlated features into one, this is called ***feature extraction.***\n",
    "\n",
    "Yet another important unsupervised task is ***anomaly detection.*** The system is shown mostly normal instances during training, so it learns to recognize them and when it sees a new instance it can tell whether it looks like a normal one or whether it is likely an anomaly. A very similar task is *novelty detection:* the difference is that novelty detection algorithms expect to see only normal data during training, while anomally detection algorithms are usually more tolerant, they can often perform well even with a small percentage of outliers in the training set.\n",
    "\n",
    "Lastly, another common unsupervised task is ***assocation rule learning,*** in which the goal is to dig into large amounts of data and discover interesting relations between attributes.\n",
    "\n",
    "#### **Semisupervised Learning**\n",
    "\n",
    "Algorithms that can deal with ***partially*** labeled training data, usually a lot of unlabeled data and a little bit of labeled data.\n",
    "\n",
    "*e.g.* Google Photos lets you upload your family photos and it automatically recognizes the same person A shows up in photos 1, 5, and 11, while another person B shows up in photos 2, 5, and 7 (clustering). Now all the system needs is for you to label these people by naming everyone in every photos, which is useful for searching photos.\n",
    "\n",
    "Most semisupervised learning algorithms are combinations of unsupervised and supervised algorithms. For example ***deep belief networks (DBNs)*** are based on unsupervised components called ***resitricted Boltzmann machines (RBMs)*** stacked on top of one another. RBMs are trained sequentially in an unsupervised manner, and then the whole system is fine-tuned using supervised learning techniques.\n",
    "\n",
    "### **Reinforcement Learning**\n",
    "\n",
    "The learning system, called an ***agent*** in this context, can observe the environment, select and perform actions, and get ***rewards*** in return (or ***penalties*** in the form of negative rewards). It must then learn by itself what is the best strategy, called a ***policy***, to get the most reward over time. A policy defines what action the agent should choose when it is in a given situation."
   ]
  },
  {
   "cell_type": "markdown",
   "metadata": {},
   "source": [
    "### <mark style=\"background-color: darksalmon\">**Batch and Online Learning**</mark>\n",
    "\n",
    "Another criterion used to classify ML systems is whether or not the system can learn incrementally from a stream of incoming data.\n",
    "\n",
    "#### **Batch learning**\n",
    "\n",
    "The system is incapable of learning incrementally: it must be trained using all the available data. This will generally take a lot of time and computing resources, so it is typically done offline. First the system is trained, and then it is launched into production and runs without learning anymore; it just applies what it has learned. This is called ***offline learning.***\n",
    "\n",
    "If you want a batch learning system to know about new data, you need to train a new version of the system from scratch on the full dataset (not just the new data, but also the old data), then stop the old system and replace it with the new one.\n",
    "\n",
    "Fortunately, the whole process of training, evaluating, and launching a Machine Learning system can be automated fairly easily, so even a batch learning system can adapt to change. Simply update the data and train a new version of  the system from scratch as often as needed.\n",
    "\n",
    "This solution is simple and often works fine, but training using the full set of data can take many hours, so you would typically train a new system only every 24 hours or even just weekly. If you system needs to adapat to rapidly changing data (e.g., to predict stock prices), then you need a more reactive solution.\n",
    "\n",
    "Also, training on the full set of data requires a lot of computing resources. If you have a lot of data and you automate your system to train from scratch every day, it will end up costing you a lot of money. If the amount of data is huge, it may even be impossible to use a batch learning algorithm. \n",
    "\n",
    "### **Online learning**\n",
    "\n",
    "In online learning,, you train the system incrementally by feeding it data instance sequentially, either individually or by small groups called ***mini-batches.*** Each learning step is fast and cheap, so the system can learn about new data on the fly, as it arrives.\n",
    "\n",
    "Online learning is great for systems that receive data as a continuous flow (e.g. stock prices) and need to adapat to change rapidly or autonomously. It is also a good option if you have limited computing resources once an online learning system has learned about new data instances. It does not need them anymore, so you can discard them (unless you want to be able to roll back to a previous state and \"replay\" the data). This can have a huge amount of space.\n",
    "\n",
    "Online learning algorithms can also be used to train systems on huge datasets that cannot fit in one machine's main memory (this is called ***out-of-core learning***). The algorithm loads part of the data, runs a training step on that data, and repeats the process until it has run on all of the data.\n",
    "\n",
    "One important paramter of online learning systems is how fast they should adapt to changing data, called the ***learning rate.*** If you set a high learning rate, then your system will rapidly adapt to new data, but it will also tend to quickly forget the old data. Conversely, if you set a low learning rate, the system will have more inertia; that is, it will learn more slowly, but it will also be less sensitive to noise in the new data or to sequences of nonrepresentative data points (outliers).\n",
    "\n",
    "A big challenge with online learning is that if bad data is fed to the system, the system's performance will gradually decline. To reduce this risk, you need to monitor your system closely and promptly switch learning off (and possibly revert to a previously working state) if you detect a drop in performance. You may also want to monitor the input data and react to abnormal data (e.g. using an anomaly detection algorithm)."
   ]
  },
  {
   "cell_type": "markdown",
   "metadata": {},
   "source": [
    "### <mark style=\"background-color: darksalmon\">**Instance-Based Versus Model-Based Learning**</mark>\n",
    "\n",
    "One more way to categorize ML systems is by how they ***generalize.*** Most ML tasks are about making predictions which means that given a number of training examples, the system needs to be able to generalize to examples it has never seen before. Having a good performance measure on the training data is good, but insufficient; the true goal is to perform well on new instances.\n",
    "\n",
    "#### Instance-based learning\n",
    "\n",
    "Possibly the most trivial form of learning is simply to learn by heart. The system learns the examples by heart, then generalizes to new cases by comparing them to the learned examples (or a subset of them), using a similarity measure. \n",
    "\n",
    "#### Model-based learning\n",
    "\n",
    "Another way to generalize from a set of examples is to build a model of these examples, then use that model to make ***predictions.***\n",
    "\n",
    "***Example 1-1. Training and running a linear model using Scikit-Learn***"
   ]
  },
  {
   "cell_type": "code",
   "execution_count": null,
   "metadata": {},
   "outputs": [],
   "source": [
    "# sklearn-env\\Scripts\\activate\n",
    "# Install Dependencies\n",
    "import sys\n",
    "from packaging import version\n",
    "import sklearn\n",
    "import matplotlib.pyplot as plt\n",
    "import numpy as np\n",
    "\n",
    "assert sys.version_info >= (3, 7)\n",
    "assert version.parse(sklearn.__version__) >= version.parse(\"1.0.1\")\n",
    "\n",
    "plt.rc('font', size=12)\n",
    "plt.rc('axes', labelsize=14, titlesize=14)\n",
    "plt.rc('legend', fontsize=12)\n",
    "plt.rc('xtick', labelsize=10)\n",
    "plt.rc('ytick', labelsize=10)\n",
    "# Make this notebook's output stable across runs\n",
    "np.random.seed(42)"
   ]
  },
  {
   "cell_type": "code",
   "execution_count": 10,
   "metadata": {},
   "outputs": [
    {
     "data": {
      "image/png": "[encoded data removed]",
      "text/plain": [
       "<Figure size 640x480 with 1 Axes>"
      ]
     },
     "metadata": {},
     "output_type": "display_data"
    },
    {
     "name": "stdout",
     "output_type": "stream",
     "text": [
      "[[6.30165767]]\n"
     ]
    }
   ],
   "source": [
    "import matplotlib.pyplot as plt\n",
    "import pandas as pd\n",
    "from sklearn.linear_model import LinearRegression\n",
    "\n",
    "# Download and prepare the data\n",
    "lifesat = pd.read_csv(\"./data/lifesat/lifesat.csv\")\n",
    "X = lifesat[[\"GDP per capita (USD)\"]].values\n",
    "y = lifesat[[\"Life satisfaction\"]].values\n",
    "\n",
    "# Visualize the data\n",
    "lifesat.plot(kind='scatter', grid=True, x='GDP per capita (USD)', y='Life satisfaction')\n",
    "plt.axis([25_500, 62_500, 4, 9])\n",
    "plt.show()\n",
    "\n",
    "# Select a linear model\n",
    "model = LinearRegression()\n",
    "\n",
    "# Train the model\n",
    "model.fit(X, y)\n",
    "\n",
    "# Make a prediction for Cyprus\n",
    "X_new = [[37_655.2]] # Cyprus' GDP per capita in 2020\n",
    "print(model.predict(X_new))"
   ]
  },
  {
   "cell_type": "markdown",
   "metadata": {},
   "source": [
    "If you had used an instance-based learning algorithm instead, you would have found that the three closest countries are Slovenia, Portugal, and Spain with life satisfactions of 5.7, 5.1, and 6.5, respectively. Averaging these three, you get 5.77 which is pretty close to the model-based prediction. This is called ***k-Nearest Neighbors regression (with k=3).***"
   ]
  },
  {
   "cell_type": "code",
   "execution_count": 16,
   "metadata": {},
   "outputs": [
    {
     "name": "stdout",
     "output_type": "stream",
     "text": [
      "[[6.33333333]]\n"
     ]
    }
   ],
   "source": [
    "# Select a 3-Nearest Neighbors regression model\n",
    "from sklearn.neighbors import KNeighborsRegressor\n",
    "\n",
    "model = KNeighborsRegressor(n_neighbors=3)\n",
    "\n",
    "# Train the model\n",
    "model.fit(X, y)\n",
    "\n",
    "# Make a prediction for Cyprus\n",
    "print(model.predict(X_new))"
   ]
  }
 ],
 "metadata": {
  "kernelspec": {
   "display_name": ".venv",
   "language": "python",
   "name": "python3"
  },
  "language_info": {
   "codemirror_mode": {
    "name": "ipython",
    "version": 3
   },
   "file_extension": ".py",
   "mimetype": "text/x-python",
   "name": "python",
   "nbconvert_exporter": "python",
   "pygments_lexer": "ipython3",
   "version": "3.13.0"
  }
 },
 "nbformat": 4,
 "nbformat_minor": 2
}
